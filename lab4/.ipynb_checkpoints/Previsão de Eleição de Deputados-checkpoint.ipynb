{
 "cells": [
  {
   "cell_type": "code",
   "execution_count": 5,
   "metadata": {},
   "outputs": [],
   "source": [
    "import pandas as pd\n",
    "import numpy as np\n",
    "import seaborn as sns"
   ]
  },
  {
   "cell_type": "code",
   "execution_count": 2,
   "metadata": {},
   "outputs": [],
   "source": [
    "#dados das eleições dos anos de 2006 e 2010\n",
    "data = pd.read_csv(\"../data/train.csv\")\n",
    "\n",
    "#removendo variáveis irrelevantes\n",
    "data = data.drop(columns=['sequencial_candidato', 'nome'])\n",
    "\n",
    "#selecionando atributos numéricos\n",
    "numeric_feats = data.dtypes[data.dtypes != \"object\"].index\n",
    "\n",
    "#normalizando variáveis numéricas\n",
    "data[numeric_feats] = np.log1p(data[numeric_feats])\n",
    "\n",
    "#dummy das variáveis categoricas\n",
    "X = data.drop(columns=['situacao'])\n",
    "X = pd.get_dummies(X)\n",
    "\n",
    "Y = data.situacao\n",
    "Y = Y.replace(['nao_eleito', 'eleito'], [0, 1])"
   ]
  },
  {
   "cell_type": "code",
   "execution_count": 6,
   "metadata": {},
   "outputs": [
    {
     "data": {
      "text/plain": [
       "<matplotlib.axes._subplots.AxesSubplot at 0x7f46cdfcaa10>"
      ]
     },
     "execution_count": 6,
     "metadata": {},
     "output_type": "execute_result"
    },
    {
     "data": {
      "image/png": "[encoded data removed]",
      "text/plain": [
       "<Figure size 432x288 with 1 Axes>"
      ]
     },
     "metadata": {},
     "output_type": "display_data"
    }
   ],
   "source": [
    "#plotando distribuição da variável resposta\n",
    "sns.countplot(Y)            "
   ]
  }
 ],
 "metadata": {
  "kernelspec": {
   "display_name": "Python 2",
   "language": "python",
   "name": "python2"
  },
  "language_info": {
   "codemirror_mode": {
    "name": "ipython",
    "version": 2
   },
   "file_extension": ".py",
   "mimetype": "text/x-python",
   "name": "python",
   "nbconvert_exporter": "python",
   "pygments_lexer": "ipython2",
   "version": "2.7.15"
  }
 },
 "nbformat": 4,
 "nbformat_minor": 2
}
