{
 "cells": [
  {
   "cell_type": "markdown",
   "metadata": {},
   "source": [
    "# Implementando Regressão Múltipla do Zero"
   ]
  },
  {
   "cell_type": "code",
   "execution_count": 1,
   "metadata": {},
   "outputs": [],
   "source": [
    "import numpy as np\n",
    "import math\n",
    "import time\n",
    "from sklearn.linear_model import LinearRegression"
   ]
  },
  {
   "cell_type": "markdown",
   "metadata": {},
   "source": [
    "Função para iterar sobre o gradiente descendente até que: $||\\mathbf{w}||_2$ < $\\epsilon$"
   ]
  },
  {
   "cell_type": "code",
   "execution_count": 2,
   "metadata": {},
   "outputs": [],
   "source": [
    "def gradient_descent_runner_vectorized(starting_w, X,Y, learning_rate, epsilon):\n",
    "    w = starting_w\n",
    "    grad = np.array([np.inf,np.inf,np.inf,np.inf,np.inf,np.inf])\n",
    "    i = 0\n",
    "    while (np.linalg.norm(grad)>=epsilon):\n",
    "        w,grad = step_gradient_vectorized(w, X, Y, learning_rate)\n",
    "#          if i % 1000 == 0:\n",
    "#             print(\"MSE na iteração {0} é de {1}\".format(i,compute_mse_vectorized(w, X, Y)))\n",
    "        i+= 1\n",
    "    return w"
   ]
  },
  {
   "cell_type": "markdown",
   "metadata": {},
   "source": [
    "Função para fazer a atualização dos parâmetros no Gradiente Descendente:<p>$w_j = -2\\sum_{i=1}^N h_j(x^i)(y^i-h(x^i)W)$"
   ]
  },
  {
   "cell_type": "code",
   "execution_count": 3,
   "metadata": {},
   "outputs": [],
   "source": [
    "def step_gradient_vectorized(w_current,H,Y,learningRate):\n",
    "    res = Y - np.dot(H,w_current) #calculando resíduo\n",
    "    gradient = np.multiply(res,H) \n",
    "    gradient = np.sum(gradient,axis=0)\n",
    "    gradient = gradient[:,np.newaxis]\n",
    "    new_w = w_current + 2 * learningRate * gradient\n",
    "    return [new_w, gradient]"
   ]
  },
  {
   "cell_type": "markdown",
   "metadata": {},
   "source": [
    "Função para calcular MSE (Mean Squared Error):<p>$MSE(\\hat{w})=\\frac{1}{N}(y-\\hat{\\mathbf{w}}^T\\mathbf{x})^T(y-\\hat{\\mathbf{w}}^T\\mathbf{x})$"
   ]
  },
  {
   "cell_type": "code",
   "execution_count": 4,
   "metadata": {},
   "outputs": [],
   "source": [
    "def compute_mse_vectorized(W,X,Y):\n",
    "    res = Y - np.dot(X,W)\n",
    "    totalError = np.dot(res.T,res)\n",
    "    return totalError / float(len(Y))"
   ]
  },
  {
   "cell_type": "markdown",
   "metadata": {},
   "source": [
    "Os dados representam o CRA e as notas dos alunos de computação da UFCG, essas são referentes à disciplinas do primeiro período. O objetivo é por meio das notas no primeiro período conseguir explicar o CRA final dos alunos de computação."
   ]
  },
  {
   "cell_type": "code",
   "execution_count": 5,
   "metadata": {},
   "outputs": [
    {
     "name": "stdout",
     "output_type": "stream",
     "text": [
      "Iniciando gradiente descendente com todos os w's = 0, error = [[54.47995386]]\n",
      "Executando...\n",
      "Gradiente descendente convergiu com:\n",
      "w0 = [1.73608351]\n",
      "w1 = [0.1030706]\n",
      "w2 = [0.0465112]\n",
      "w3 = [0.16409463]\n",
      "w4 = [0.38126109]\n",
      "w5 = [0.02029819]\n",
      "error = [[0.41133761]]\n",
      "Versão vetorizada rodou em: 78636.5709305 ms\n"
     ]
    }
   ],
   "source": [
    "points = np.genfromtxt(\"../data/sample_treino.csv\", delimiter=\",\")\n",
    "points = np.c_[np.ones(len(points)),points] #acrescentado coluna referente ao intercep w0\n",
    "X = points[1:,:6] #selecionando atributos\n",
    "Y = points[1:,6][:,np.newaxis] #selecionando variável de interesse\n",
    "init_w = np.zeros((6,1))\n",
    "learning_rate = 0.00001\n",
    "epsilon = 0.001\n",
    "print(\"Iniciando gradiente descendente com todos os w's = 0, error = {0}\".format(compute_mse_vectorized(init_w, X,Y)))\n",
    "print(\"Executando...\")\n",
    "tic = time.time()\n",
    "w = gradient_descent_runner_vectorized(init_w, X,Y, learning_rate, epsilon)\n",
    "toc = time.time()\n",
    "print(\"Gradiente descendente convergiu com:\")\n",
    "for i in range(len(w)):\n",
    "    print \"w{0} = {1}\".format(i,w[i])\n",
    "print \"error = {0}\".format(compute_mse_vectorized(w,X,Y))\n",
    "print(\"Versão vetorizada rodou em: \" + str(1000*(toc-tic)) + \" ms\")\n"
   ]
  },
  {
   "cell_type": "markdown",
   "metadata": {},
   "source": [
    "Comparando os coeficientes estimados com o valor dos coeficientes da `regressão linear do scikit learn`."
   ]
  },
  {
   "cell_type": "code",
   "execution_count": 6,
   "metadata": {},
   "outputs": [
    {
     "name": "stdout",
     "output_type": "stream",
     "text": [
      "regressão linear scikit learn \t\t algoritmo implementado\n",
      "\tw0 = 1.73771151379 \t\t\tw0 = 1.73608351445\n",
      "\tw1 = 0.103041432463\t\t\tw1 = 0.103070603866\n",
      "\tw2 = 0.0464367008507\t\t\tw2 = 0.0465112036584\n",
      "\tw3 = 0.164098344192\t\t\tw3 = 0.164094634867\n",
      "\tw4 = 0.381178426656\t\t\tw4 = 0.381261094863\n",
      "\tw5 = 0.0202781576248\t\t\tw5 = 0.0202981916658\n"
     ]
    }
   ],
   "source": [
    "points = np.genfromtxt(\"../data/sample_treino.csv\", delimiter=\",\")\n",
    "X = points[1:,:5]\n",
    "Y = points[1:,5]\n",
    "regr = LinearRegression()\n",
    "regr.fit(X, Y)\n",
    "print \"regressão linear scikit learn \\t\\t algoritmo implementado\" \n",
    "print \"\\tw0 = {0} \\t\\t\\tw0 = {1}\".format(regr.intercept_, w[0][0])\n",
    "for i in range(0,len(w)-1):\n",
    "    print \"\\tw{0} = {1}\\t\\t\\tw{2} = {3}\".format(i+1, regr.coef_[i], i+1, w[i+1][0])"
   ]
  },
  {
   "cell_type": "markdown",
   "metadata": {},
   "source": [
    "Para os valores learning_rate = 0.00001 e epsilon = 0.001 os coeficientes das duas regressões ficam bem próximos."
   ]
  }
 ],
 "metadata": {
  "kernelspec": {
   "display_name": "Python 3",
   "language": "python",
   "name": "python3"
  },
  "language_info": {
   "codemirror_mode": {
    "name": "ipython",
    "version": 3
   },
   "file_extension": ".py",
   "mimetype": "text/x-python",
   "name": "python",
   "nbconvert_exporter": "python",
   "pygments_lexer": "ipython3",
   "version": "3.6.5"
  }
 },
 "nbformat": 4,
 "nbformat_minor": 2
}
