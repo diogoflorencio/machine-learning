{
 "cells": [
  {
   "cell_type": "code",
   "execution_count": 22,
   "metadata": {},
   "outputs": [],
   "source": [
    "import numpy as np\n",
    "import math\n",
    "import time\n",
    "from sklearn.linear_model import LinearRegression"
   ]
  },
  {
   "cell_type": "code",
   "execution_count": null,
   "metadata": {},
   "outputs": [],
   "source": [
    "Os dados representam notas dos alunos de computação da UFCG.."
   ]
  },
  {
   "cell_type": "markdown",
   "metadata": {},
   "source": [
    "$MSE(\\hat{w})=\\frac{1}{N}(y-\\hat{\\mathbf{w}}^T\\mathbf{x})^T(y-\\hat{\\mathbf{w}}^T\\mathbf{x})$"
   ]
  },
  {
   "cell_type": "code",
   "execution_count": 23,
   "metadata": {},
   "outputs": [],
   "source": [
    "def compute_mse_vectorized(W,X,Y):\n",
    "    res = Y - np.dot(X,W)\n",
    "    totalError = np.dot(res.T,res)\n",
    "    return totalError / float(len(Y))"
   ]
  },
  {
   "cell_type": "code",
   "execution_count": 24,
   "metadata": {},
   "outputs": [],
   "source": [
    "def step_gradient_vectorized(w_current,H,Y,learningRate):\n",
    "    \n",
    "    res = Y - np.dot(H,w_current)\n",
    "    #calculando a derivada parcial para cada atributo\n",
    "    new_grad = []\n",
    "    for i in range(len(H[0])):\n",
    "        X = H[:,i][:,np.newaxis]\n",
    "        new_grad.append(np.sum(np.multiply(res,X)))\n",
    "    new_w = []\n",
    "    for i in range(len(w_current)):\n",
    "        new_w.append((w_current[i] + (2 * learningRate * new_grad[i])))\n",
    "    \n",
    "    return [np.array(new_w), np.array(new_grad)]"
   ]
  },
  {
   "cell_type": "code",
   "execution_count": 32,
   "metadata": {},
   "outputs": [],
   "source": [
    "def gradient_descent_runner_vectorized(starting_w, X,Y, learning_rate, epsilon):\n",
    "    w = starting_w\n",
    "    grad = np.array([np.inf,np.inf,np.inf,np.inf,np.inf,np.inf])\n",
    "    i = 0\n",
    "    while (np.linalg.norm(grad)>=epsilon):\n",
    "        w,grad = step_gradient_vectorized(w, X, Y, learning_rate)\n",
    "        if i % 1000 == 0:\n",
    "            print(\"MSE na iteração {0} é de {1}\".format(i,compute_mse_vectorized(w, X, Y)))\n",
    "        i+= 1\n",
    "    return w"
   ]
  },
  {
   "cell_type": "code",
   "execution_count": 36,
   "metadata": {},
   "outputs": [
    {
     "name": "stdout",
     "output_type": "stream",
     "text": [
      "Starting gradient descent at w0 = [0.], w1 = [0.], error = [[54.47995386]]\n",
      "Running...\n",
      "MSE na iteração 0 é de [[15.39415211]]\n",
      "MSE na iteração 1000 é de [[0.43036269]]\n",
      "MSE na iteração 2000 é de [[0.42891282]]\n",
      "MSE na iteração 3000 é de [[0.42766679]]\n",
      "MSE na iteração 4000 é de [[0.42650933]]\n",
      "MSE na iteração 5000 é de [[0.42543391]]\n",
      "MSE na iteração 6000 é de [[0.42443472]]\n",
      "MSE na iteração 7000 é de [[0.42350635]]\n",
      "MSE na iteração 8000 é de [[0.42264379]]\n",
      "MSE na iteração 9000 é de [[0.42184238]]\n",
      "MSE na iteração 10000 é de [[0.42109776]]\n",
      "MSE na iteração 11000 é de [[0.42040593]]\n",
      "MSE na iteração 12000 é de [[0.41976314]]\n",
      "MSE na iteração 13000 é de [[0.41916591]]\n",
      "MSE na iteração 14000 é de [[0.41861102]]\n",
      "MSE na iteração 15000 é de [[0.41809545]]\n",
      "MSE na iteração 16000 é de [[0.41761644]]\n",
      "MSE na iteração 17000 é de [[0.41717137]]\n",
      "MSE na iteração 18000 é de [[0.41675786]]\n",
      "MSE na iteração 19000 é de [[0.41637365]]\n",
      "MSE na iteração 20000 é de [[0.41601668]]\n",
      "MSE na iteração 21000 é de [[0.41568501]]\n",
      "MSE na iteração 22000 é de [[0.41537685]]\n",
      "MSE na iteração 23000 é de [[0.41509054]]\n",
      "MSE na iteração 24000 é de [[0.41482452]]\n",
      "MSE na iteração 25000 é de [[0.41457735]]\n",
      "MSE na iteração 26000 é de [[0.41434771]]\n",
      "MSE na iteração 27000 é de [[0.41413434]]\n",
      "MSE na iteração 28000 é de [[0.4139361]]\n",
      "MSE na iteração 29000 é de [[0.41375191]]\n",
      "MSE na iteração 30000 é de [[0.41358078]]\n",
      "MSE na iteração 31000 é de [[0.41342177]]\n",
      "MSE na iteração 32000 é de [[0.41327404]]\n",
      "MSE na iteração 33000 é de [[0.41313678]]\n",
      "MSE na iteração 34000 é de [[0.41300925]]\n",
      "MSE na iteração 35000 é de [[0.41289075]]\n",
      "MSE na iteração 36000 é de [[0.41278066]]\n",
      "MSE na iteração 37000 é de [[0.41267837]]\n",
      "MSE na iteração 38000 é de [[0.41258333]]\n",
      "MSE na iteração 39000 é de [[0.41249503]]\n",
      "MSE na iteração 40000 é de [[0.41241299]]\n",
      "MSE na iteração 41000 é de [[0.41233676]]\n",
      "MSE na iteração 42000 é de [[0.41226594]]\n",
      "MSE na iteração 43000 é de [[0.41220013]]\n",
      "MSE na iteração 44000 é de [[0.41213899]]\n",
      "MSE na iteração 45000 é de [[0.41208219]]\n",
      "MSE na iteração 46000 é de [[0.41202941]]\n",
      "MSE na iteração 47000 é de [[0.41198037]]\n",
      "MSE na iteração 48000 é de [[0.41193481]]\n",
      "MSE na iteração 49000 é de [[0.41189247]]\n",
      "MSE na iteração 50000 é de [[0.41185314]]\n",
      "MSE na iteração 51000 é de [[0.4118166]]\n",
      "MSE na iteração 52000 é de [[0.41178264]]\n",
      "MSE na iteração 53000 é de [[0.4117511]]\n",
      "MSE na iteração 54000 é de [[0.41172179]]\n",
      "MSE na iteração 55000 é de [[0.41169455]]\n",
      "MSE na iteração 56000 é de [[0.41166925]]\n",
      "MSE na iteração 57000 é de [[0.41164574]]\n",
      "MSE na iteração 58000 é de [[0.4116239]]\n",
      "MSE na iteração 59000 é de [[0.4116036]]\n",
      "MSE na iteração 60000 é de [[0.41158475]]\n",
      "MSE na iteração 61000 é de [[0.41156723]]\n",
      "MSE na iteração 62000 é de [[0.41155095]]\n",
      "MSE na iteração 63000 é de [[0.41153583]]\n",
      "MSE na iteração 64000 é de [[0.41152178]]\n",
      "MSE na iteração 65000 é de [[0.41150872]]\n",
      "MSE na iteração 66000 é de [[0.41149659]]\n",
      "MSE na iteração 67000 é de [[0.41148532]]\n",
      "MSE na iteração 68000 é de [[0.41147485]]\n",
      "MSE na iteração 69000 é de [[0.41146512]]\n",
      "MSE na iteração 70000 é de [[0.41145608]]\n",
      "MSE na iteração 71000 é de [[0.41144768]]\n",
      "MSE na iteração 72000 é de [[0.41143988]]\n",
      "MSE na iteração 73000 é de [[0.41143263]]\n",
      "MSE na iteração 74000 é de [[0.41142589]]\n",
      "MSE na iteração 75000 é de [[0.41141963]]\n",
      "MSE na iteração 76000 é de [[0.41141382]]\n",
      "MSE na iteração 77000 é de [[0.41140841]]\n",
      "MSE na iteração 78000 é de [[0.41140339]]\n",
      "MSE na iteração 79000 é de [[0.41139873]]\n",
      "MSE na iteração 80000 é de [[0.41139439]]\n",
      "MSE na iteração 81000 é de [[0.41139037]]\n",
      "MSE na iteração 82000 é de [[0.41138663]]\n",
      "Gradiente descendente convergiu com w0 = [1.6563136], w1 = [0.10449997], w2 = [0.05016175], w3 = [0.16391288], w4 = [0.38531173], w5 = [0.02127983], error = [[0.41138395]]\n",
      "Versão vetorizada rodou em: 39238.3248806 ms\n"
     ]
    }
   ],
   "source": [
    "points = np.genfromtxt(\"../data/sample_treino.csv\", delimiter=\",\")\n",
    "points = np.c_[np.ones(len(points)),points]\n",
    "X = points[1:,:6]\n",
    "Y = points[1:,6][:,np.newaxis]\n",
    "init_w = np.zeros((6,1))\n",
    "learning_rate = 0.00003\n",
    "#num_iterations = 10000\n",
    "epsilon = 0.05\n",
    "print(\"Starting gradient descent at w0 = {0}, w1 = {1}, error = {2}\".format(init_w[0], init_w[1], compute_mse_vectorized(init_w, X,Y)))\n",
    "print(\"Running...\")\n",
    "tic = time.time()\n",
    "w = gradient_descent_runner_vectorized(init_w, X,Y, learning_rate, epsilon)\n",
    "toc = time.time()\n",
    "print(\"Gradiente descendente convergiu com w0 = {0}, w1 = {1}, w2 = {2}, w3 = {3}, w4 = {4}, w5 = {5}, error = {6}\".format(\n",
    "    w[0], w[1], w[2], w[3], w[4], w[5], compute_mse_vectorized(w,X,Y)))\n",
    "print(\"Versão vetorizada rodou em: \" + str(1000*(toc-tic)) + \" ms\")\n"
   ]
  },
  {
   "cell_type": "code",
   "execution_count": 21,
   "metadata": {},
   "outputs": [
    {
     "name": "stdout",
     "output_type": "stream",
     "text": [
      "1.7377115137944426\n",
      "[0.10304143 0.0464367  0.16409834 0.38117843 0.02027816]\n"
     ]
    }
   ],
   "source": [
    "points = np.genfromtxt(\"../data/sample_treino.csv\", delimiter=\",\")\n",
    "X = points[1:,:5]\n",
    "Y = points[1:,5]\n",
    "regr = LinearRegression()\n",
    "regr.fit(X, Y)\n",
    "print regr.intercept_\n",
    "print regr.coef_\n",
    "print regr."
   ]
  }
 ],
 "metadata": {
  "kernelspec": {
   "display_name": "Python 2",
   "language": "python",
   "name": "python2"
  },
  "language_info": {
   "codemirror_mode": {
    "name": "ipython",
    "version": 2
   },
   "file_extension": ".py",
   "mimetype": "text/x-python",
   "name": "python",
   "nbconvert_exporter": "python",
   "pygments_lexer": "ipython2",
   "version": "2.7.15"
  }
 },
 "nbformat": 4,
 "nbformat_minor": 2
}
